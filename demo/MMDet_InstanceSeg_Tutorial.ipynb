version https://git-lfs.github.com/spec/v1
oid sha256:7a434ab114175576f58bca0a5f64711e7f435cae8e7865f73e7bf473f0c8b56a
size 16727077
